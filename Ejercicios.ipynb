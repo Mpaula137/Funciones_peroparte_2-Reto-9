{
 "cells": [
  {
   "attachments": {},
   "cell_type": "markdown",
   "metadata": {},
   "source": [
    "Primer punto:"
   ]
  },
  {
   "cell_type": "code",
   "execution_count": 26,
   "metadata": {},
   "outputs": [
    {
     "name": "stdout",
     "output_type": "stream",
     "text": [
      "1152\n"
     ]
    }
   ],
   "source": [
    "#def valor_total_prestamo( C: float,i: float,n:int):\n",
    "   #  valor = C * ((1 + i)**n)\n",
    "   #  return valor\n",
    "\n",
    "Valor_prestamos=lambda C,i,n: C * ((1 + i)**n)\n",
    "# ESta funcion lambda halla el valor de un prestamo\n",
    "#Argurmentos:\n",
    "# C(float): cantidad del prestamo\n",
    "# i(float): valor del interes\n",
    "# n(int): cantidad de meses\n",
    "# el resulyado devolvera el valor del prestamo\n",
    "print(Valor_prestamos(2,23,2))"
   ]
  },
  {
   "cell_type": "code",
   "execution_count": 41,
   "metadata": {},
   "outputs": [
    {
     "name": "stdout",
     "output_type": "stream",
     "text": [
      "0.06\n"
     ]
    }
   ],
   "source": [
    "#def calcula_cant_carne_en_Aves ( N:int, M:int ,K:int) : #se declaran\n",
    "\n",
    "# total_de_carne = (N*6)+(M*7)+(K*1) # operacion principal (6 de gallinas, 7 de gallos, 1 de pollitos) #peso en kg\n",
    "# Cant_kilos= total_de_carne/1000\n",
    "# return Cant_kilos#lo que debe arrojar la funcion\n",
    "\n",
    "Cantidad_de_carnes=lambda N,M,K: ((N*6)+(M*7)+(K*1))/1000\n",
    "#Esta funcion halla la cantidad de kilos que hay entre tres animales segun su peso\n",
    "#Argumentos:\n",
    "# N(int): cantidad de gallinas\n",
    "# M(int): cantidad de gallos\n",
    "# K(int): cantidad de pollitos\n",
    "# Devolvera el total de kilos que hay en total segun la cantidad de animales que hayan\n",
    "print(Cantidad_de_carnes(3,5,7))\n"
   ]
  },
  {
   "cell_type": "code",
   "execution_count": 28,
   "metadata": {},
   "outputs": [
    {
     "name": "stdout",
     "output_type": "stream",
     "text": [
      "145664\n"
     ]
    }
   ],
   "source": [
    "#def contagiados_porDias(C:int,D:int):\n",
    "#    total_contagiadoscovid = C * (2**D) #operacion para hallar contagiados a partir de dias\n",
    "#    return total_contagiadoscovid\n",
    "\n",
    "Contagiados_covid= lambda C,D: C * (2**D)\n",
    "#Esta funcion halla la cantidad de kilos que hay entre tres animales segun su peso\n",
    "#Argumentos:\n",
    "# C(int): cantidad de contagiados\n",
    "# D(int): cantidad de dias\n",
    "# Devolvera el total de contagiados segun hayan transcurrido cierta cantidad de dias\n",
    "print(Contagiados_covid(569,8))\n"
   ]
  },
  {
   "attachments": {},
   "cell_type": "markdown",
   "metadata": {},
   "source": [
    "Punto 2:"
   ]
  },
  {
   "cell_type": "code",
   "execution_count": 30,
   "metadata": {},
   "outputs": [
    {
     "name": "stdout",
     "output_type": "stream",
     "text": [
      "El perímetro del rectángulo es:  10.0\n"
     ]
    }
   ],
   "source": [
    "def calcularPerRectán (*args)->float:\n",
    "    \"\"\"\n",
    "    Esta función calcula el perimetro de un rectángulo\n",
    "    Argumentos:\n",
    "    base: float\n",
    "    altura: float\n",
    "    Devuelve: El calculo de el perimetro de un rectángulo\n",
    "    \"\"\"  \n",
    "    if len(args) == 2: #usamos len para una validación de argumentos\n",
    "        base, altura = args#le damos que argumentos usaremos\n",
    "        perímetroRectángulo=(base*2)+(altura*2)\n",
    "        return perímetroRectángulo\n",
    "\n",
    "if __name__==\"__main__\": #funcion principal\n",
    "    base = float (input(\"Ingrese la base del rectángulo:\"))\n",
    "    altura = float (input(\"Ingrese la altura del rectángulo:|\"))\n",
    "    print (\"El perímetro del rectángulo es: \", str(calcularPerRectán(base,altura)))\n",
    "     "
   ]
  },
  {
   "cell_type": "code",
   "execution_count": 31,
   "metadata": {},
   "outputs": [
    {
     "name": "stdout",
     "output_type": "stream",
     "text": [
      "Esta es la area de su rectangulo 736.0\n"
     ]
    }
   ],
   "source": [
    "def area_rectangular(*args):\n",
    "    \"\"\"\n",
    "    Esta función calcula el area de un rectángulo\n",
    "    Argumentos:\n",
    "    base: float\n",
    "    altura: float\n",
    "    Devuelve: El calculo de área de un rectángulo\n",
    "    \"\"\"\n",
    "    if len(args) == 2:# hacemos una validación \n",
    "        base, altura = args\n",
    "        area= base*altura #usamos el debido procedimiento matemático\n",
    "    return area\n",
    "if __name__ == \"__main__\":  #Funcion principal\n",
    " a= float(input(\"Ingresa el valor de la base:\"))\n",
    " b= float(input(\"Ingresa el valor de la altura:\"))\n",
    "print(\"Esta es la area de su rectangulo\",str(area_rectangular(a,b)))\n"
   ]
  },
  {
   "cell_type": "code",
   "execution_count": 38,
   "metadata": {},
   "outputs": [
    {
     "name": "stdout",
     "output_type": "stream",
     "text": [
      "El área del círculo con radio: 5.0 es 31.41592653589793\n"
     ]
    }
   ],
   "source": [
    "from math import pi#importamos math para usar pi\n",
    "def calcularAreaCírculo(*args)->float:\n",
    "   \"\"\"\n",
    "    Esta función calcula el area de un circulo\n",
    "    Argumentos:\n",
    "    base: float\n",
    "    pi: float\n",
    "    Devuelve: El calculo de el area de un circulo\n",
    "   \"\"\"\n",
    "   if len (args) == 2: #validamos los argumentos\n",
    "    radio, pi =args\n",
    "   areaCírculo=((pi)*(radio*2))#operación de area\n",
    "   return areaCírculo\n",
    "\n",
    "if __name__==\"__main__\":\n",
    "    radio = float (input(\"Ingrese el radio del círculo:\"))\n",
    "    print (\"El área del círculo con radio:\", radio, \"es\", str(calcularAreaCírculo(radio,pi)))"
   ]
  },
  {
   "attachments": {},
   "cell_type": "markdown",
   "metadata": {},
   "source": [
    "Punto 3:"
   ]
  },
  {
   "cell_type": "code",
   "execution_count": 42,
   "metadata": {},
   "outputs": [
    {
     "name": "stdout",
     "output_type": "stream",
     "text": [
      "Aca esta su resultado: 1024.0\n"
     ]
    }
   ],
   "source": [
    "def potencia_recursiva(base:float, exponente:int):\n",
    "    \"\"\"\n",
    "    Esta función calcula una potencia\n",
    "    Argumentos:\n",
    "    base: float \n",
    "    exponente: int #numero que multiplica cierta cantidad de veces\n",
    "    Devuelve: el resultado de la base elevada a exponente veces\n",
    "    \"\"\"\n",
    "    if exponente==0:# caso base: cualquier numero elevado a o es 1\n",
    "        return 1\n",
    "    if exponente== 1:# Cualquier numero elevado a 1 es ese mismo numero\n",
    "        return base\n",
    "    else:\n",
    "        return base*potencia_recursiva(base, exponente-1) #caso recursivo\n",
    "if __name__ == \"__main__\":  #Funcion principal\n",
    "    base= float(input(\"ingrese el numero base:\"))\n",
    "    exponente= int(input(\"Ingrese su exponente:\"))\n",
    "    print(\"Aca esta su resultado:\", str(potencia_recursiva(base, exponente)))"
   ]
  },
  {
   "attachments": {},
   "cell_type": "markdown",
   "metadata": {},
   "source": [
    "Punto 4:"
   ]
  },
  {
   "cell_type": "code",
   "execution_count": 1,
   "metadata": {},
   "outputs": [
    {
     "name": "stdout",
     "output_type": "stream",
     "text": [
      "El último número de la serie de Fibonacci hasta 54 es 139583862445\n",
      "fibo se demoró 7.799826562404633e-06 en correr\n"
     ]
    }
   ],
   "source": [
    "import timeit #Se importa la libreria a ser utilizada\n",
    "\n",
    "def fibo(n : int )-> int: #Se define la función base\n",
    "  i : int = 1\n",
    "  # Caso base\n",
    "  n1 : int = 0\n",
    "  n2 : int = 1\n",
    "  while(i <= n):\n",
    "    # Condición\n",
    "    sumFibo = n1 + n2\n",
    "    # Actualización\n",
    "    n1 = n2\n",
    "    n2 = sumFibo\n",
    "    i += 1\n",
    "  return sumFibo #Retorna el resultado\n",
    "\n",
    "if __name__ == \"__main__\": #Función principal\n",
    "  num = int(input(\"Ingrese numero: \")) #Solicitamos el dato necesario   \n",
    "  start_time1 = timeit.default_timer() #Sew inicia a contar el tiempo de ejecución\n",
    "  serieFibo = fibo(num)\n",
    "  timer1= timeit.default_timer() - start_time1 #Se finaliza de contar el tiempo de ejecución\n",
    "  print(f\"El último número de la serie de Fibonacci hasta {num} es {serieFibo}\") #Se imprimen los resultados\n",
    "print(f\"fibo se demoró {timer1} en correr\")\n"
   ]
  }
 ],
 "metadata": {
  "kernelspec": {
   "display_name": "Python 3",
   "language": "python",
   "name": "python3"
  },
  "language_info": {
   "codemirror_mode": {
    "name": "ipython",
    "version": 3
   },
   "file_extension": ".py",
   "mimetype": "text/x-python",
   "name": "python",
   "nbconvert_exporter": "python",
   "pygments_lexer": "ipython3",
   "version": "3.11.3"
  },
  "orig_nbformat": 4
 },
 "nbformat": 4,
 "nbformat_minor": 2
}
